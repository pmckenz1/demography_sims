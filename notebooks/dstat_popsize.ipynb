{
 "cells": [
  {
   "cell_type": "markdown",
   "metadata": {},
   "source": [
    "## can population size changes affect abba baba stats?"
   ]
  },
  {
   "cell_type": "markdown",
   "metadata": {},
   "source": [
    "imports"
   ]
  },
  {
   "cell_type": "code",
   "execution_count": 155,
   "metadata": {},
   "outputs": [],
   "source": [
    "import msprime as ms\n",
    "import numpy as np"
   ]
  },
  {
   "cell_type": "markdown",
   "metadata": {},
   "source": [
    "### Let's start parameterizing our msprime sims:  \n",
    "Population size, number of populations (tips on phylogeny, in our case), a migration matrix between populations (zero here -- we're going to use point migrations for simplicity)."
   ]
  },
  {
   "cell_type": "markdown",
   "metadata": {},
   "source": [
    "## **Important** for interpreting results:  \n",
    "### We're considering a (((p1,p2)p3)O) tree"
   ]
  },
  {
   "cell_type": "code",
   "execution_count": 156,
   "metadata": {},
   "outputs": [],
   "source": [
    "Ne = 1000\n",
    "population_configurations = [\n",
    "    ms.PopulationConfiguration(sample_size=1, initial_size=Ne)\n",
    "    for ntip in range(4)]"
   ]
  },
  {
   "cell_type": "code",
   "execution_count": 157,
   "metadata": {},
   "outputs": [
    {
     "data": {
      "text/plain": [
       "[<msprime.simulations.PopulationConfiguration at 0x10e338050>,\n",
       " <msprime.simulations.PopulationConfiguration at 0x10e338710>,\n",
       " <msprime.simulations.PopulationConfiguration at 0x10e338390>,\n",
       " <msprime.simulations.PopulationConfiguration at 0x10e338490>]"
      ]
     },
     "execution_count": 157,
     "metadata": {},
     "output_type": "execute_result"
    }
   ],
   "source": [
    "population_configurations"
   ]
  },
  {
   "cell_type": "code",
   "execution_count": 158,
   "metadata": {},
   "outputs": [],
   "source": [
    "migmat = [[0,0,0,0],\n",
    "          [0,0,0,0],\n",
    "          [0,0,0,0],\n",
    "         [0,0,0,0]]"
   ]
  },
  {
   "cell_type": "markdown",
   "metadata": {},
   "source": [
    "### Now define demographic events. \n",
    "This includes speciation times (mass migrations where proportion = 1) as well as population size chages (`PopulationParametersChange`) and gene flow (`MassMigration` where proportion is less than 1).  \n",
    "**These are in backward time**"
   ]
  },
  {
   "cell_type": "code",
   "execution_count": 171,
   "metadata": {},
   "outputs": [],
   "source": [
    "# no migration, no population size changes\n",
    "demographic_events = [\n",
    "    ms.MassMigration(\n",
    "        time=1000, source=0, destination=1, proportion=1.0),\n",
    "    ms.MassMigration(\n",
    "        time=3000, source=1, destination=2, proportion=1.0),\n",
    "    ms.MassMigration(\n",
    "        time=6000, source=2, destination=3, proportion=1.0)\n",
    "]"
   ]
  },
  {
   "cell_type": "code",
   "execution_count": 172,
   "metadata": {},
   "outputs": [
    {
     "name": "stdout",
     "output_type": "stream",
     "text": [
      "==============================\n",
      "Epoch: 0 -- 1000.0 generations\n",
      "==============================\n",
      "     start     end      growth_rate |     0        1        2        3    \n",
      "   -------- --------       -------- | -------- -------- -------- -------- \n",
      "0 |  1e+03    1e+03               0 |     0        0        0        0    \n",
      "1 |  1e+03    1e+03               0 |     0        0        0        0    \n",
      "2 |  1e+03    1e+03               0 |     0        0        0        0    \n",
      "3 |  1e+03    1e+03               0 |     0        0        0        0    \n",
      "\n",
      "Events @ generation 1000.0\n",
      "   - Mass migration: lineages move from 0 to 1 with probability 1.0\n",
      "===================================\n",
      "Epoch: 1000.0 -- 3000.0 generations\n",
      "===================================\n",
      "     start     end      growth_rate |     0        1        2        3    \n",
      "   -------- --------       -------- | -------- -------- -------- -------- \n",
      "0 |  1e+03    1e+03               0 |     0        0        0        0    \n",
      "1 |  1e+03    1e+03               0 |     0        0        0        0    \n",
      "2 |  1e+03    1e+03               0 |     0        0        0        0    \n",
      "3 |  1e+03    1e+03               0 |     0        0        0        0    \n",
      "\n",
      "Events @ generation 3000.0\n",
      "   - Mass migration: lineages move from 1 to 2 with probability 1.0\n",
      "===================================\n",
      "Epoch: 3000.0 -- 6000.0 generations\n",
      "===================================\n",
      "     start     end      growth_rate |     0        1        2        3    \n",
      "   -------- --------       -------- | -------- -------- -------- -------- \n",
      "0 |  1e+03    1e+03               0 |     0        0        0        0    \n",
      "1 |  1e+03    1e+03               0 |     0        0        0        0    \n",
      "2 |  1e+03    1e+03               0 |     0        0        0        0    \n",
      "3 |  1e+03    1e+03               0 |     0        0        0        0    \n",
      "\n",
      "Events @ generation 6000.0\n",
      "   - Mass migration: lineages move from 2 to 3 with probability 1.0\n",
      "================================\n",
      "Epoch: 6000.0 -- inf generations\n",
      "================================\n",
      "     start     end      growth_rate |     0        1        2        3    \n",
      "   -------- --------       -------- | -------- -------- -------- -------- \n",
      "0 |  1e+03    1e+03               0 |     0        0        0        0    \n",
      "1 |  1e+03    1e+03               0 |     0        0        0        0    \n",
      "2 |  1e+03    1e+03               0 |     0        0        0        0    \n",
      "3 |  1e+03    1e+03               0 |     0        0        0        0    \n",
      "\n"
     ]
    }
   ],
   "source": [
    "# this demography debugger is useful for checking that our simulation is doing what we want it to do\n",
    "dd = ms.DemographyDebugger(\n",
    "    population_configurations=population_configurations,\n",
    "    migration_matrix=migmat,\n",
    "    demographic_events=demographic_events)\n",
    "dd.print_history()"
   ]
  },
  {
   "cell_type": "code",
   "execution_count": 173,
   "metadata": {},
   "outputs": [],
   "source": [
    "# now we can make a simulation object\n",
    "mod=ms.simulate(\n",
    "            length=100000000,\n",
    "            num_replicates= 1,  \n",
    "            mutation_rate=1e-7,\n",
    "            recombination_rate=1e-8,\n",
    "            migration_matrix=migmat,\n",
    "            population_configurations=population_configurations,  \n",
    "            demographic_events=demographic_events\n",
    "        )"
   ]
  },
  {
   "cell_type": "markdown",
   "metadata": {},
   "source": [
    "### Now we can access the genotype matrix"
   ]
  },
  {
   "cell_type": "code",
   "execution_count": 174,
   "metadata": {},
   "outputs": [],
   "source": [
    "genos=mod.next().genotype_matrix()"
   ]
  },
  {
   "cell_type": "code",
   "execution_count": 175,
   "metadata": {},
   "outputs": [
    {
     "data": {
      "text/plain": [
       "array([[1, 1, 1, 0],\n",
       "       [1, 1, 1, 0],\n",
       "       [1, 1, 0, 0],\n",
       "       ...,\n",
       "       [0, 1, 1, 0],\n",
       "       [0, 0, 0, 1],\n",
       "       [0, 0, 0, 1]], dtype=uint8)"
      ]
     },
     "execution_count": 175,
     "metadata": {},
     "output_type": "execute_result"
    }
   ],
   "source": [
    "genos"
   ]
  },
  {
   "cell_type": "markdown",
   "metadata": {},
   "source": [
    "This matrix tells us where mutations land on the tree under the coalescent w/ recombination"
   ]
  },
  {
   "cell_type": "markdown",
   "metadata": {},
   "source": [
    "Variants seen here are sampled under the infinite sites model."
   ]
  },
  {
   "cell_type": "markdown",
   "metadata": {},
   "source": [
    "So abba and baba sites can just be counted by summing the number of 1,0,1,0 variants and 0,1,1,0 variants"
   ]
  },
  {
   "cell_type": "code",
   "execution_count": 176,
   "metadata": {},
   "outputs": [],
   "source": [
    "nbaba = np.sum(np.alltrue(genos == np.array([1,0,1,0]),axis=1))\n",
    "nabba = np.sum(np.alltrue(genos == np.array([0,1,1,0]),axis=1))"
   ]
  },
  {
   "cell_type": "code",
   "execution_count": 177,
   "metadata": {},
   "outputs": [
    {
     "name": "stdout",
     "output_type": "stream",
     "text": [
      "nbaba = 2100\n",
      "nabba = 2263\n"
     ]
    }
   ],
   "source": [
    "print(\"nbaba = \" + str(nbaba))\n",
    "print(\"nabba = \" + str(nabba))"
   ]
  },
  {
   "cell_type": "markdown",
   "metadata": {},
   "source": [
    "## Now add migration"
   ]
  },
  {
   "cell_type": "code",
   "execution_count": 228,
   "metadata": {},
   "outputs": [],
   "source": [
    "demographic_events = [\n",
    "    # here's a pretty huge migration event from p3 to p2, one of the sister taxa\n",
    "    ms.MassMigration(\n",
    "        time=800, source=2, destination=1, proportion=.8),\n",
    "    ms.MassMigration(\n",
    "        time=1000, source=0, destination=1, proportion=1.0),\n",
    "    ms.MassMigration(\n",
    "        time=3000, source=1, destination=2, proportion=1.0),\n",
    "    ms.MassMigration(\n",
    "        time=6000, source=2, destination=3, proportion=1.0)\n",
    "]"
   ]
  },
  {
   "cell_type": "code",
   "execution_count": 229,
   "metadata": {},
   "outputs": [
    {
     "name": "stdout",
     "output_type": "stream",
     "text": [
      "=============================\n",
      "Epoch: 0 -- 800.0 generations\n",
      "=============================\n",
      "     start     end      growth_rate |     0        1        2        3    \n",
      "   -------- --------       -------- | -------- -------- -------- -------- \n",
      "0 |  1e+03    1e+03               0 |     0        0        0        0    \n",
      "1 |  1e+03    1e+03               0 |     0        0        0        0    \n",
      "2 |  1e+03    1e+03               0 |     0        0        0        0    \n",
      "3 |  1e+03    1e+03               0 |     0        0        0        0    \n",
      "\n",
      "Events @ generation 800.0\n",
      "   - Mass migration: lineages move from 2 to 1 with probability 0.8\n",
      "==================================\n",
      "Epoch: 800.0 -- 1000.0 generations\n",
      "==================================\n",
      "     start     end      growth_rate |     0        1        2        3    \n",
      "   -------- --------       -------- | -------- -------- -------- -------- \n",
      "0 |  1e+03    1e+03               0 |     0        0        0        0    \n",
      "1 |  1e+03    1e+03               0 |     0        0        0        0    \n",
      "2 |  1e+03    1e+03               0 |     0        0        0        0    \n",
      "3 |  1e+03    1e+03               0 |     0        0        0        0    \n",
      "\n",
      "Events @ generation 1000.0\n",
      "   - Mass migration: lineages move from 0 to 1 with probability 1.0\n",
      "===================================\n",
      "Epoch: 1000.0 -- 3000.0 generations\n",
      "===================================\n",
      "     start     end      growth_rate |     0        1        2        3    \n",
      "   -------- --------       -------- | -------- -------- -------- -------- \n",
      "0 |  1e+03    1e+03               0 |     0        0        0        0    \n",
      "1 |  1e+03    1e+03               0 |     0        0        0        0    \n",
      "2 |  1e+03    1e+03               0 |     0        0        0        0    \n",
      "3 |  1e+03    1e+03               0 |     0        0        0        0    \n",
      "\n",
      "Events @ generation 3000.0\n",
      "   - Mass migration: lineages move from 1 to 2 with probability 1.0\n",
      "===================================\n",
      "Epoch: 3000.0 -- 6000.0 generations\n",
      "===================================\n",
      "     start     end      growth_rate |     0        1        2        3    \n",
      "   -------- --------       -------- | -------- -------- -------- -------- \n",
      "0 |  1e+03    1e+03               0 |     0        0        0        0    \n",
      "1 |  1e+03    1e+03               0 |     0        0        0        0    \n",
      "2 |  1e+03    1e+03               0 |     0        0        0        0    \n",
      "3 |  1e+03    1e+03               0 |     0        0        0        0    \n",
      "\n",
      "Events @ generation 6000.0\n",
      "   - Mass migration: lineages move from 2 to 3 with probability 1.0\n",
      "================================\n",
      "Epoch: 6000.0 -- inf generations\n",
      "================================\n",
      "     start     end      growth_rate |     0        1        2        3    \n",
      "   -------- --------       -------- | -------- -------- -------- -------- \n",
      "0 |  1e+03    1e+03               0 |     0        0        0        0    \n",
      "1 |  1e+03    1e+03               0 |     0        0        0        0    \n",
      "2 |  1e+03    1e+03               0 |     0        0        0        0    \n",
      "3 |  1e+03    1e+03               0 |     0        0        0        0    \n",
      "\n"
     ]
    }
   ],
   "source": [
    "# debug again just for kicks\n",
    "dd = ms.DemographyDebugger(\n",
    "    population_configurations=population_configurations,\n",
    "    migration_matrix=migmat,\n",
    "    demographic_events=demographic_events)\n",
    "dd.print_history()"
   ]
  },
  {
   "cell_type": "code",
   "execution_count": 230,
   "metadata": {},
   "outputs": [],
   "source": [
    "# now we can make a simulation object\n",
    "mod=ms.simulate(\n",
    "            length=100000000,\n",
    "            num_replicates= 1,  \n",
    "            mutation_rate=1e-7,\n",
    "            recombination_rate=1e-8,\n",
    "            migration_matrix=migmat,\n",
    "            population_configurations=population_configurations,  \n",
    "            demographic_events=demographic_events\n",
    "        )\n",
    "genos=mod.next().genotype_matrix()"
   ]
  },
  {
   "cell_type": "code",
   "execution_count": 231,
   "metadata": {},
   "outputs": [],
   "source": [
    "nbaba = np.sum(np.alltrue(genos == np.array([1,0,1,0]),axis=1))\n",
    "nabba = np.sum(np.alltrue(genos == np.array([0,1,1,0]),axis=1))"
   ]
  },
  {
   "cell_type": "code",
   "execution_count": 232,
   "metadata": {},
   "outputs": [
    {
     "name": "stdout",
     "output_type": "stream",
     "text": [
      "nbaba = 4888\n",
      "nabba = 6423\n"
     ]
    }
   ],
   "source": [
    "print(\"nbaba = \" + str(nbaba))\n",
    "print(\"nabba = \" + str(nabba))"
   ]
  },
  {
   "cell_type": "markdown",
   "metadata": {},
   "source": [
    "This difference makes sense because we migrated a bunch of lineages from p3 to p2."
   ]
  },
  {
   "cell_type": "markdown",
   "metadata": {},
   "source": [
    "## Now add populations size changes on either the p1 or p2 lineage"
   ]
  },
  {
   "cell_type": "markdown",
   "metadata": {},
   "source": [
    "#### First, we'll have a huge bottleneck in the p1 lineage while migrating lineages from p3 to p2."
   ]
  },
  {
   "cell_type": "code",
   "execution_count": 197,
   "metadata": {},
   "outputs": [],
   "source": [
    "demographic_events = [\n",
    "    # what is the population size at this tip at time zero (the others are size defined above)\n",
    "    # and moving backward in time?\n",
    "    ms.PopulationParametersChange(\n",
    "        time=0, initial_size=30, population_id=0),\n",
    "    # moving backward in time, the pop size of branch now matches the others.\n",
    "    ms.PopulationParametersChange(\n",
    "        time=750, initial_size=1000, population_id=1),\n",
    "    # here's the migration\n",
    "    ms.MassMigration(\n",
    "        time=800, source=2, destination=1, proportion=.8),\n",
    "    # here are the speciation nodes\n",
    "    ms.MassMigration(\n",
    "        time=1000, source=0, destination=1, proportion=1.0),\n",
    "    ms.MassMigration(\n",
    "        time=3000, source=1, destination=2, proportion=1.0),\n",
    "    ms.MassMigration(\n",
    "        time=6000, source=2, destination=3, proportion=1.0)\n",
    "]\n",
    "# now we can make a simulation object\n",
    "mod=ms.simulate(\n",
    "            length=100000000,\n",
    "            num_replicates= 1,  \n",
    "            mutation_rate=1e-7,\n",
    "            recombination_rate=1e-8,\n",
    "            migration_matrix=migmat,\n",
    "            population_configurations=population_configurations,  \n",
    "            demographic_events=demographic_events\n",
    "        )\n",
    "genos=mod.next().genotype_matrix()\n",
    "nbaba = np.sum(np.alltrue(genos == np.array([1,0,1,0]),axis=1))\n",
    "nabba = np.sum(np.alltrue(genos == np.array([0,1,1,0]),axis=1))"
   ]
  },
  {
   "cell_type": "code",
   "execution_count": 198,
   "metadata": {},
   "outputs": [
    {
     "name": "stdout",
     "output_type": "stream",
     "text": [
      "nbaba = 4772\n",
      "nabba = 7196\n"
     ]
    }
   ],
   "source": [
    "print(\"nbaba = \" + str(nbaba))\n",
    "print(\"nabba = \" + str(nabba))"
   ]
  },
  {
   "cell_type": "markdown",
   "metadata": {},
   "source": [
    "So the disproportionate frequency of abba sites is maintained here. "
   ]
  },
  {
   "cell_type": "markdown",
   "metadata": {},
   "source": [
    "#### Now, we'll have a huge bottleneck in p2, which is also the recipient of introgression from p3"
   ]
  },
  {
   "cell_type": "code",
   "execution_count": 201,
   "metadata": {},
   "outputs": [],
   "source": [
    "demographic_events = [\n",
    "    # what is the population size at this tip at time zero (the others are size defined above)\n",
    "    # and moving backward in time?\n",
    "    ms.PopulationParametersChange(\n",
    "        time=0, initial_size=30, population_id=1),\n",
    "    # moving backward in time, the pop size of branch now matches the others.\n",
    "    ms.PopulationParametersChange(\n",
    "        time=750, initial_size=1000, population_id=1),\n",
    "    # here's the migration\n",
    "    ms.MassMigration(\n",
    "        time=800, source=2, destination=1, proportion=.8),\n",
    "    # here are the speciation nodes\n",
    "    ms.MassMigration(\n",
    "        time=1000, source=0, destination=1, proportion=1.0),\n",
    "    ms.MassMigration(\n",
    "        time=3000, source=1, destination=2, proportion=1.0),\n",
    "    ms.MassMigration(\n",
    "        time=6000, source=2, destination=3, proportion=1.0)\n",
    "]\n",
    "# now we can make a simulation object\n",
    "mod=ms.simulate(\n",
    "            length=100000000,\n",
    "            num_replicates= 1,  \n",
    "            mutation_rate=1e-7,\n",
    "            recombination_rate=1e-8,\n",
    "            migration_matrix=migmat,\n",
    "            population_configurations=population_configurations,  \n",
    "            demographic_events=demographic_events\n",
    "        )\n",
    "genos=mod.next().genotype_matrix()\n",
    "nbaba = np.sum(np.alltrue(genos == np.array([1,0,1,0]),axis=1))\n",
    "nabba = np.sum(np.alltrue(genos == np.array([0,1,1,0]),axis=1))"
   ]
  },
  {
   "cell_type": "code",
   "execution_count": 202,
   "metadata": {},
   "outputs": [
    {
     "name": "stdout",
     "output_type": "stream",
     "text": [
      "nbaba = 5305\n",
      "nabba = 7135\n"
     ]
    }
   ],
   "source": [
    "print(\"nbaba = \" + str(nbaba))\n",
    "print(\"nabba = \" + str(nabba))"
   ]
  },
  {
   "cell_type": "markdown",
   "metadata": {},
   "source": [
    "Pretty much the same -- multiple runs of this shows variance overlaps pretty entirely."
   ]
  },
  {
   "cell_type": "markdown",
   "metadata": {},
   "source": [
    "#### What if p2 grows instead?"
   ]
  },
  {
   "cell_type": "code",
   "execution_count": 203,
   "metadata": {},
   "outputs": [],
   "source": [
    "demographic_events = [\n",
    "    # what is the population size at this tip at time zero (the others are size defined above)\n",
    "    # and moving backward in time?\n",
    "    ms.PopulationParametersChange(\n",
    "        time=0, initial_size=10000, population_id=1),\n",
    "    # moving backward in time, the pop size of branch now matches the others.\n",
    "    ms.PopulationParametersChange(\n",
    "        time=750, initial_size=1000, population_id=1),\n",
    "    # here's the migration\n",
    "    ms.MassMigration(\n",
    "        time=800, source=2, destination=1, proportion=.8),\n",
    "    # here are the speciation nodes\n",
    "    ms.MassMigration(\n",
    "        time=1000, source=0, destination=1, proportion=1.0),\n",
    "    ms.MassMigration(\n",
    "        time=3000, source=1, destination=2, proportion=1.0),\n",
    "    ms.MassMigration(\n",
    "        time=6000, source=2, destination=3, proportion=1.0)\n",
    "]\n",
    "# now we can make a simulation object\n",
    "mod=ms.simulate(\n",
    "            length=100000000,\n",
    "            num_replicates= 1,  \n",
    "            mutation_rate=1e-7,\n",
    "            recombination_rate=1e-8,\n",
    "            migration_matrix=migmat,\n",
    "            population_configurations=population_configurations,  \n",
    "            demographic_events=demographic_events\n",
    "        )\n",
    "genos=mod.next().genotype_matrix()\n",
    "nbaba = np.sum(np.alltrue(genos == np.array([1,0,1,0]),axis=1))\n",
    "nabba = np.sum(np.alltrue(genos == np.array([0,1,1,0]),axis=1))"
   ]
  },
  {
   "cell_type": "code",
   "execution_count": 204,
   "metadata": {},
   "outputs": [
    {
     "name": "stdout",
     "output_type": "stream",
     "text": [
      "nbaba = 5385\n",
      "nabba = 6660\n"
     ]
    }
   ],
   "source": [
    "print(\"nbaba = \" + str(nbaba))\n",
    "print(\"nabba = \" + str(nabba))"
   ]
  },
  {
   "cell_type": "markdown",
   "metadata": {},
   "source": [
    "Still the same."
   ]
  },
  {
   "cell_type": "markdown",
   "metadata": {},
   "source": [
    "What if we have multiple population size changes? Growth in the introgressing lineages but bottleneck in the other?"
   ]
  },
  {
   "cell_type": "code",
   "execution_count": 205,
   "metadata": {},
   "outputs": [
    {
     "name": "stdout",
     "output_type": "stream",
     "text": [
      "nbaba = 4820\n",
      "nabba = 6343\n"
     ]
    }
   ],
   "source": [
    "demographic_events = [\n",
    "    # what is the population size at this tip at time zero (the others are size defined above)\n",
    "    # and moving backward in time?\n",
    "    ms.PopulationParametersChange(\n",
    "        time=0, initial_size=10000, population_id=1),\n",
    "    ms.PopulationParametersChange(\n",
    "        time=0, initial_size=30, population_id=0),\n",
    "    ms.PopulationParametersChange(\n",
    "        time=0, initial_size=10000, population_id=2),\n",
    "    # moving backward in time, the pop size of branch now matches the others.\n",
    "    ms.PopulationParametersChange(\n",
    "        time=750, initial_size=1000, population_id=1),\n",
    "    ms.PopulationParametersChange(\n",
    "        time=750, initial_size=1000, population_id=0),\n",
    "    ms.PopulationParametersChange(\n",
    "        time=750, initial_size=1000, population_id=2),\n",
    "    # here's the migration\n",
    "    ms.MassMigration(\n",
    "        time=800, source=2, destination=1, proportion=.8),\n",
    "    # here are the speciation nodes\n",
    "    ms.MassMigration(\n",
    "        time=1000, source=0, destination=1, proportion=1.0),\n",
    "    ms.MassMigration(\n",
    "        time=3000, source=1, destination=2, proportion=1.0),\n",
    "    ms.MassMigration(\n",
    "        time=6000, source=2, destination=3, proportion=1.0)\n",
    "]\n",
    "# now we can make a simulation object\n",
    "mod=ms.simulate(\n",
    "            length=100000000,\n",
    "            num_replicates= 1,  \n",
    "            mutation_rate=1e-7,\n",
    "            recombination_rate=1e-8,\n",
    "            migration_matrix=migmat,\n",
    "            population_configurations=population_configurations,  \n",
    "            demographic_events=demographic_events\n",
    "        )\n",
    "genos=mod.next().genotype_matrix()\n",
    "nbaba = np.sum(np.alltrue(genos == np.array([1,0,1,0]),axis=1))\n",
    "nabba = np.sum(np.alltrue(genos == np.array([0,1,1,0]),axis=1))\n",
    "\n",
    "print(\"nbaba = \" + str(nbaba))\n",
    "print(\"nabba = \" + str(nabba))"
   ]
  },
  {
   "cell_type": "markdown",
   "metadata": {},
   "source": [
    "#### Let's try lots of other combinations just for fun."
   ]
  },
  {
   "cell_type": "code",
   "execution_count": 222,
   "metadata": {},
   "outputs": [
    {
     "name": "stdout",
     "output_type": "stream",
     "text": [
      "nbaba = 5187\n",
      "nabba = 7714\n"
     ]
    }
   ],
   "source": [
    "demographic_events = [\n",
    "    # what is the population size at this tip at time zero (the others are size defined above)\n",
    "    # and moving backward in time?\n",
    "    ms.PopulationParametersChange(\n",
    "        time=0, initial_size=30, population_id=1),\n",
    "    ms.PopulationParametersChange(\n",
    "        time=0, initial_size=10000, population_id=0),\n",
    "    ms.PopulationParametersChange(\n",
    "        time=0, initial_size=30, population_id=2),\n",
    "    # moving backward in time, the pop size of branch now matches the others.\n",
    "    ms.PopulationParametersChange(\n",
    "        time=750, initial_size=1000, population_id=1),\n",
    "    ms.PopulationParametersChange(\n",
    "        time=750, initial_size=1000, population_id=0),\n",
    "    ms.PopulationParametersChange(\n",
    "        time=750, initial_size=1000, population_id=2),\n",
    "    # here's the migration\n",
    "    ms.MassMigration(\n",
    "        time=800, source=2, destination=1, proportion=.8),\n",
    "    # here are the speciation nodes\n",
    "    ms.MassMigration(\n",
    "        time=1000, source=0, destination=1, proportion=1.0),\n",
    "    ms.MassMigration(\n",
    "        time=3000, source=1, destination=2, proportion=1.0),\n",
    "    ms.MassMigration(\n",
    "        time=6000, source=2, destination=3, proportion=1.0)\n",
    "]\n",
    "# now we can make a simulation object\n",
    "mod=ms.simulate(\n",
    "            length=100000000,\n",
    "            num_replicates= 1,  \n",
    "            mutation_rate=1e-7,\n",
    "            recombination_rate=1e-8,\n",
    "            migration_matrix=migmat,\n",
    "            population_configurations=population_configurations,  \n",
    "            demographic_events=demographic_events\n",
    "        )\n",
    "genos=mod.next().genotype_matrix()\n",
    "nbaba = np.sum(np.alltrue(genos == np.array([1,0,1,0]),axis=1))\n",
    "nabba = np.sum(np.alltrue(genos == np.array([0,1,1,0]),axis=1))\n",
    "\n",
    "print(\"nbaba = \" + str(nbaba))\n",
    "print(\"nabba = \" + str(nabba))"
   ]
  },
  {
   "cell_type": "code",
   "execution_count": 219,
   "metadata": {},
   "outputs": [
    {
     "name": "stdout",
     "output_type": "stream",
     "text": [
      "nbaba = 4519\n",
      "nabba = 6302\n"
     ]
    }
   ],
   "source": [
    "demographic_events = [\n",
    "    # what is the population size at this tip at time zero (the others are size defined above)\n",
    "    # and moving backward in time?\n",
    "    ms.PopulationParametersChange(\n",
    "        time=0, initial_size=30, population_id=1),\n",
    "    ms.PopulationParametersChange(\n",
    "        time=0, initial_size=30, population_id=0),\n",
    "    ms.PopulationParametersChange(\n",
    "        time=0, initial_size=10000, population_id=2),\n",
    "    # moving backward in time, the pop size of branch now matches the others.\n",
    "    ms.PopulationParametersChange(\n",
    "        time=750, initial_size=1000, population_id=1),\n",
    "    ms.PopulationParametersChange(\n",
    "        time=750, initial_size=1000, population_id=0),\n",
    "    ms.PopulationParametersChange(\n",
    "        time=750, initial_size=1000, population_id=2),\n",
    "    # here's the migration\n",
    "    ms.MassMigration(\n",
    "        time=800, source=2, destination=1, proportion=.8),\n",
    "    # here are the speciation nodes\n",
    "    ms.MassMigration(\n",
    "        time=1000, source=0, destination=1, proportion=1.0),\n",
    "    ms.MassMigration(\n",
    "        time=3000, source=1, destination=2, proportion=1.0),\n",
    "    ms.MassMigration(\n",
    "        time=6000, source=2, destination=3, proportion=1.0)\n",
    "]\n",
    "# now we can make a simulation object\n",
    "mod=ms.simulate(\n",
    "            length=100000000,\n",
    "            num_replicates= 1,  \n",
    "            mutation_rate=1e-7,\n",
    "            recombination_rate=1e-8,\n",
    "            migration_matrix=migmat,\n",
    "            population_configurations=population_configurations,  \n",
    "            demographic_events=demographic_events\n",
    "        )\n",
    "genos=mod.next().genotype_matrix()\n",
    "nbaba = np.sum(np.alltrue(genos == np.array([1,0,1,0]),axis=1))\n",
    "nabba = np.sum(np.alltrue(genos == np.array([0,1,1,0]),axis=1))\n",
    "\n",
    "print(\"nbaba = \" + str(nbaba))\n",
    "print(\"nabba = \" + str(nabba))"
   ]
  },
  {
   "cell_type": "markdown",
   "metadata": {},
   "source": [
    "#### Very consistent."
   ]
  }
 ],
 "metadata": {
  "kernelspec": {
   "display_name": "Python 2",
   "language": "python",
   "name": "python2"
  },
  "language_info": {
   "codemirror_mode": {
    "name": "ipython",
    "version": 2
   },
   "file_extension": ".py",
   "mimetype": "text/x-python",
   "name": "python",
   "nbconvert_exporter": "python",
   "pygments_lexer": "ipython2",
   "version": "2.7.11"
  }
 },
 "nbformat": 4,
 "nbformat_minor": 2
}
