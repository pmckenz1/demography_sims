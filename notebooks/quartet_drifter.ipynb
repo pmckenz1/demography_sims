{
 "cells": [
  {
   "cell_type": "markdown",
   "metadata": {},
   "source": [
    "# make a class object"
   ]
  },
  {
   "cell_type": "code",
   "execution_count": null,
   "metadata": {},
   "outputs": [],
   "source": [
    "#!/usr/bin/env python\n",
    "\n",
    "\"\"\"\n",
    "Run drift simulations on quartet trees\n",
    "\"\"\"\n",
    "\n",
    "# imports for py3 compatibility\n",
    "from __future__ import print_function\n",
    "from builtins import range, input\n",
    "\n",
    "import numpy as np\n",
    "from numba import jit\n",
    "\n",
    "class QuartetDrifter:\n",
    "    \"\"\"\n",
    "    A coalescent model for returning ms simulations.\n",
    "    \"\"\"\n",
    "    def __init__(\n",
    "        self, \n",
    "        dem_dict,\n",
    "        num_genes=1000,\n",
    "        seed = None,\n",
    "        Ne = None\n",
    "        ):\n",
    "        \"\"\"\n",
    "        demography should be an object des\n",
    "        \"\"\"\n",
    "        # init random seed\n",
    "        if seed:\n",
    "            np.random.seed(seed)\n",
    "\n",
    "        # params\n",
    "        self.demography = {\"rootNe\": Ne,\n",
    "                             \"br4\":None,\n",
    "                             \"br123\":None,\n",
    "                             \"br3\":None,\n",
    "                             \"br12\":None,\n",
    "                             \"br1\":None,\n",
    "                             \"br2\":None,\n",
    "                             \"node12\":Ne,\n",
    "                             \"node123\":Ne*2,\n",
    "                             \"tips\":Ne*4, # node height is 0\n",
    "                             \"flow\":None\n",
    "                            }\n",
    "        # set demography to user specification\n",
    "        for key in demography.keys():\n",
    "            self.demography[key] = demography[key]\n",
    "        \n",
    "        self.num_genes = num_genes\n",
    "        self.seed = seed\n",
    "\n",
    "        # save starting allele freqs\n",
    "        \n",
    "\n",
    "    @property\n",
    "    def starting_variants(self):\n",
    "        \"calculate starting population variants\"\n",
    "        freqs = np.random.uniform(0,1,size=self.num_genes).reshape(self.num_genes,1,1)\n",
    "        starting_variants = (freqs*self.demography[\"rootNe\"]).astype(int)\n",
    "        return starting_variants\n",
    "    \n",
    "    def _add_one_gen(population_obj, anc_pop_size, num_genes):\n",
    "        # we just want the latest gen from our population obj\n",
    "        obj = np.zeros((num_genes),dtype = int)\n",
    "        for gene_idx in range(len(population_obj)):\n",
    "            obj[gene_idx] = population_obj[gene_idx][0]\n",
    "\n",
    "        # now convert the number of variants to frequencies\n",
    "        obj_freqs = np.divide(obj.astype(float), anc_pop_size)\n",
    "\n",
    "        # now sample a new variant number for each gene based on these frequencies\n",
    "        newgen = np.random.binomial(n=anc_pop_size,p=obj_freqs).reshape(num_genes,1,1)\n",
    "\n",
    "        # return the full array with the additional generation\n",
    "        #return(np.hstack([newgen,population_obj]))\n",
    "\n",
    "        # return just a single row, replacing the previous\n",
    "        return(newgen)\n",
    "    \n",
    "    def _run_a_bunch(population_obj, \n",
    "                    ngens,\n",
    "                   anc_pop_size):\n",
    "        '''\n",
    "        uses the add_generation function to resample across a bunch of generations.\n",
    "        '''\n",
    "        p = deepcopy(population_obj)\n",
    "        num_genes = population_obj.shape[0]\n",
    "        for _ in xrange(ngens):\n",
    "            p = _add_one_gen(p,anc_pop_size,num_genes)\n",
    "        return p\n",
    "\n",
    "    def run(self):\n",
    "        total_tree_height = self.demography[\"tips\"]\n",
    "        n_segments = 6+\n",
    "\n",
    "\n",
    "class PopSizeChange:\n",
    "    def __init__(\n",
    "        self,\n",
    "        time,\n",
    "        Ne\n",
    "        ):\n",
    "        '''\n",
    "        These can be arranged in a list for the dict\n",
    "        size: the new population size\n",
    "        time: time (in gens) of the population size change. The tips are 0, root is total height.\n",
    "        '''\n",
    "        self.Ne = Ne\n",
    "        self.time = time\n",
    "\n",
    "\n",
    "class GeneFlow:\n",
    "    def __init__(\n",
    "        self,\n",
    "        time,\n",
    "        source,\n",
    "        dest,\n",
    "        prop\n",
    "        ):\n",
    "        '''\n",
    "        time: time (in gens) of the population size change. The tips are 0, root is total height.\n",
    "        source: the branch sending genes\n",
    "        dest: the branch getting genes\n",
    "        prop: the proportion of the destination branch that is to be sampled from the source branch\n",
    "        '''\n",
    "        self.time = time\n",
    "        self.source = source\n",
    "        self.dest = dest\n",
    "        self.prop = prop"
   ]
  },
  {
   "cell_type": "code",
   "execution_count": 26,
   "metadata": {},
   "outputs": [
    {
     "data": {
      "text/plain": [
       "[('rootNe', 1000),\n",
       " ('node12', 1000),\n",
       " ('br12', None),\n",
       " ('node123', 2000),\n",
       " ('br123', None),\n",
       " ('tips', 4000),\n",
       " ('br4', None),\n",
       " ('br3', None),\n",
       " ('br2', None),\n",
       " ('br1', None)]"
      ]
     },
     "execution_count": 26,
     "metadata": {},
     "output_type": "execute_result"
    }
   ],
   "source": [
    "temp.items()"
   ]
  },
  {
   "cell_type": "code",
   "execution_count": null,
   "metadata": {},
   "outputs": [],
   "source": [
    "def set_demography(self,demography):\n",
    "    for key in test.keys():\n",
    "        temp[key] = test[key]"
   ]
  },
  {
   "cell_type": "code",
   "execution_count": 22,
   "metadata": {},
   "outputs": [],
   "source": [
    "Ne=1000\n",
    "temp = {\"rootNe\": Ne,\n",
    "                     \"br4\":None,\n",
    "                     \"br123\":None,\n",
    "                     \"br3\":None,\n",
    "                     \"br12\":None,\n",
    "                     \"br1\":None,\n",
    "                     \"br2\":None,\n",
    "                     \"node12\":Ne,\n",
    "                     \"node123\":Ne*2,\n",
    "                     \"tips\":Ne*4, # node height is 0\n",
    "                    }"
   ]
  },
  {
   "cell_type": "code",
   "execution_count": 18,
   "metadata": {},
   "outputs": [],
   "source": [
    "test={\"rootNe\": 1000,\n",
    " \"br4\":[PopSizeChange(time=1000,Ne=500)],\n",
    " \"node123\":500,\n",
    " \"node12\":1200,\n",
    " \"tips\":1500, # node height is 0\n",
    "}"
   ]
  },
  {
   "cell_type": "code",
   "execution_count": 23,
   "metadata": {},
   "outputs": [
    {
     "data": {
      "text/plain": [
       "['rootNe', 'tips', 'br4', 'node12', 'node123']"
      ]
     },
     "execution_count": 23,
     "metadata": {},
     "output_type": "execute_result"
    }
   ],
   "source": [
    "for key in test.keys():\n",
    "    temp[key] = test[key]"
   ]
  },
  {
   "cell_type": "code",
   "execution_count": 11,
   "metadata": {},
   "outputs": [],
   "source": []
  },
  {
   "cell_type": "code",
   "execution_count": null,
   "metadata": {},
   "outputs": [],
   "source": []
  },
  {
   "cell_type": "code",
   "execution_count": 27,
   "metadata": {},
   "outputs": [],
   "source": [
    "test=PopSizeChange(1000,2000)"
   ]
  },
  {
   "cell_type": "code",
   "execution_count": null,
   "metadata": {},
   "outputs": [],
   "source": []
  }
 ],
 "metadata": {
  "kernelspec": {
   "display_name": "Python 2",
   "language": "python",
   "name": "python2"
  },
  "language_info": {
   "codemirror_mode": {
    "name": "ipython",
    "version": 2
   },
   "file_extension": ".py",
   "mimetype": "text/x-python",
   "name": "python",
   "nbconvert_exporter": "python",
   "pygments_lexer": "ipython2",
   "version": "2.7.11"
  }
 },
 "nbformat": 4,
 "nbformat_minor": 2
}
