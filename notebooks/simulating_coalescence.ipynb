{
 "cells": [
  {
   "cell_type": "markdown",
   "metadata": {},
   "source": [
    "# simulating demography changes in four-taxon trees"
   ]
  },
  {
   "cell_type": "markdown",
   "metadata": {},
   "source": [
    "imports:"
   ]
  },
  {
   "cell_type": "code",
   "execution_count": 414,
   "metadata": {},
   "outputs": [],
   "source": [
    "import numpy as np\n",
    "from copy import deepcopy\n",
    "from numba import jit"
   ]
  },
  {
   "cell_type": "markdown",
   "metadata": {},
   "source": [
    "defs:"
   ]
  },
  {
   "cell_type": "code",
   "execution_count": 767,
   "metadata": {},
   "outputs": [],
   "source": [
    "@jit\n",
    "def add_generation(population_obj):\n",
    "    '''\n",
    "    resamples from previous generation for each \n",
    "    '''\n",
    "    obj=deepcopy(population_obj)\n",
    "    newdat = np.zeros((num_genes, 1, anc_pop_size),dtype=np.int8)\n",
    "    for gene_idx in range(len(obj)):\n",
    "        newdat[gene_idx][0] = np.random.choice(obj[gene_idx][0],replace=True,size=len(obj[gene_idx][0]))\n",
    "    return np.hstack([newdat,obj])"
   ]
  },
  {
   "cell_type": "code",
   "execution_count": 766,
   "metadata": {},
   "outputs": [],
   "source": [
    "@jit\n",
    "def run_a_bunch(starting_pop, num_gens):\n",
    "    '''\n",
    "    uses the add_generation function to resample across a bunch of generations.\n",
    "    '''\n",
    "    p = deepcopy(starting_pop)\n",
    "    for _ in xrange(num_gens):\n",
    "        p = add_generation(p)\n",
    "    return p"
   ]
  },
  {
   "cell_type": "markdown",
   "metadata": {},
   "source": [
    "#### Start by thinking about what we'll need to start with:"
   ]
  },
  {
   "cell_type": "code",
   "execution_count": 1047,
   "metadata": {},
   "outputs": [],
   "source": [
    "num_genes = 50000\n",
    "anc_pop_size = 20"
   ]
  },
  {
   "cell_type": "code",
   "execution_count": 1048,
   "metadata": {},
   "outputs": [],
   "source": [
    "population_alleles = np.zeros((num_genes,1,anc_pop_size),dtype = np.int8)\n",
    "# num_alleles should change to num_genetrees, number of generations, and num individuals"
   ]
  },
  {
   "cell_type": "code",
   "execution_count": 1049,
   "metadata": {},
   "outputs": [],
   "source": [
    "#num_muts = np.repeat(1,num_genes) \n",
    "num_muts = np.random.normal(float(anc_pop_size)/2,size=num_genes).astype(int)"
   ]
  },
  {
   "cell_type": "code",
   "execution_count": 1050,
   "metadata": {},
   "outputs": [],
   "source": [
    "num_muts[(num_muts > anc_pop_size)] = anc_pop_size"
   ]
  },
  {
   "cell_type": "code",
   "execution_count": 1051,
   "metadata": {},
   "outputs": [],
   "source": [
    "for gene, muts in zip(population_alleles,num_muts):\n",
    "    gene[0][np.random.choice(anc_pop_size,size=muts,replace=False)] = 1"
   ]
  },
  {
   "cell_type": "markdown",
   "metadata": {},
   "source": [
    "Figure out the expected length to coalescence:"
   ]
  },
  {
   "cell_type": "code",
   "execution_count": 1052,
   "metadata": {},
   "outputs": [],
   "source": [
    "coal_len = 4*anc_pop_size"
   ]
  },
  {
   "cell_type": "markdown",
   "metadata": {},
   "source": [
    "Now let them drift:"
   ]
  },
  {
   "cell_type": "code",
   "execution_count": 1053,
   "metadata": {},
   "outputs": [],
   "source": [
    "p3 = run_a_bunch(population_alleles, coal_len)\n",
    "p12_anc = run_a_bunch(population_alleles, coal_len/2)\n",
    "p1 = run_a_bunch(deepcopy(p12_anc), coal_len/2)\n",
    "p2 = run_a_bunch(deepcopy(p12_anc), coal_len/2)"
   ]
  },
  {
   "cell_type": "markdown",
   "metadata": {},
   "source": [
    "## Now we've simulated p1, p2, and p3. "
   ]
  },
  {
   "cell_type": "markdown",
   "metadata": {},
   "source": [
    "Let's run abba baba."
   ]
  },
  {
   "cell_type": "code",
   "execution_count": 1059,
   "metadata": {},
   "outputs": [],
   "source": [
    "sampled_genes = np.array(zip([np.random.choice(i[0]) for i in p1],[np.random.choice(i[0]) for i in p2],[np.random.choice(i[0]) for i in p3],np.repeat(0,num_genes)))"
   ]
  },
  {
   "cell_type": "code",
   "execution_count": 1060,
   "metadata": {},
   "outputs": [],
   "source": [
    "nBABA = sum(np.equal(sampled_genes, np.array([1,0,1,0])).all(axis=1))"
   ]
  },
  {
   "cell_type": "code",
   "execution_count": 1061,
   "metadata": {},
   "outputs": [],
   "source": [
    "nABBA = sum(np.equal(sampled_genes, np.array([0,1,1,0])).all(axis=1))"
   ]
  },
  {
   "cell_type": "code",
   "execution_count": 1062,
   "metadata": {},
   "outputs": [
    {
     "data": {
      "text/plain": [
       "773"
      ]
     },
     "execution_count": 1062,
     "metadata": {},
     "output_type": "execute_result"
    }
   ],
   "source": [
    "nBABA"
   ]
  },
  {
   "cell_type": "code",
   "execution_count": 1063,
   "metadata": {},
   "outputs": [
    {
     "data": {
      "text/plain": [
       "724"
      ]
     },
     "execution_count": 1063,
     "metadata": {},
     "output_type": "execute_result"
    }
   ],
   "source": [
    "nABBA"
   ]
  },
  {
   "cell_type": "markdown",
   "metadata": {},
   "source": [
    "# Now start over with binomial draws rather than bullshit resampling"
   ]
  },
  {
   "cell_type": "code",
   "execution_count": 1214,
   "metadata": {},
   "outputs": [],
   "source": [
    "num_genes = 2000\n",
    "anc_pop_size = 10000"
   ]
  },
  {
   "cell_type": "code",
   "execution_count": 1215,
   "metadata": {},
   "outputs": [],
   "source": [
    "freqs = np.random.uniform(0,1,size=num_genes).reshape(num_genes,1,1)\n",
    "population_variants = (freqs*anc_pop_size).astype(int)"
   ]
  },
  {
   "cell_type": "code",
   "execution_count": 1217,
   "metadata": {},
   "outputs": [],
   "source": [
    "@jit\n",
    "def add_one_gen(population_obj, anc_pop_size, num_genes):\n",
    "    # we just want the latest gen from our population obj\n",
    "    obj = np.zeros((num_genes),dtype = int)\n",
    "    for gene_idx in range(len(population_obj)):\n",
    "        obj[gene_idx] = population_obj[gene_idx][0]\n",
    "    \n",
    "    # now convert the number of variants to frequencies\n",
    "    obj_freqs = np.divide(obj.astype(float), anc_pop_size)\n",
    "    \n",
    "    # now sample a new variant number for each gene based on these frequencies\n",
    "    newgen = np.random.binomial(n=anc_pop_size,p=obj_freqs).reshape(num_genes,1,1)\n",
    "    \n",
    "    # return the full array with the additional generation\n",
    "    #return(np.hstack([newgen,population_obj]))\n",
    "    \n",
    "    # return just a single row, replacing the previous\n",
    "    return(newgen)"
   ]
  },
  {
   "cell_type": "code",
   "execution_count": 1218,
   "metadata": {},
   "outputs": [],
   "source": [
    "@jit\n",
    "def run_a_bunch(population_obj, \n",
    "                ngens,\n",
    "               anc_pop_size):\n",
    "    '''\n",
    "    uses the add_generation function to resample across a bunch of generations.\n",
    "    '''\n",
    "    p = deepcopy(population_obj)\n",
    "    num_genes = population_obj.shape[0]\n",
    "    for _ in xrange(ngens):\n",
    "        p = add_one_gen(p,anc_pop_size,num_genes)\n",
    "    return p"
   ]
  },
  {
   "cell_type": "code",
   "execution_count": 1219,
   "metadata": {},
   "outputs": [
    {
     "data": {
      "text/plain": [
       "array([[[ 9037]],\n",
       "\n",
       "       [[10000]],\n",
       "\n",
       "       [[10000]],\n",
       "\n",
       "       ...,\n",
       "\n",
       "       [[10000]],\n",
       "\n",
       "       [[ 7468]],\n",
       "\n",
       "       [[ 1569]]])"
      ]
     },
     "execution_count": 1219,
     "metadata": {},
     "output_type": "execute_result"
    }
   ],
   "source": [
    "run_a_bunch(population_variants,2000,anc_pop_size)"
   ]
  },
  {
   "cell_type": "code",
   "execution_count": null,
   "metadata": {},
   "outputs": [],
   "source": []
  },
  {
   "cell_type": "code",
   "execution_count": 1187,
   "metadata": {},
   "outputs": [
    {
     "data": {
      "text/plain": [
       "array([[[16],\n",
       "        [16]],\n",
       "\n",
       "       [[ 8],\n",
       "        [ 9]],\n",
       "\n",
       "       [[ 7],\n",
       "        [ 5]],\n",
       "\n",
       "       [[12],\n",
       "        [12]],\n",
       "\n",
       "       [[15],\n",
       "        [16]],\n",
       "\n",
       "       [[ 4],\n",
       "        [ 4]],\n",
       "\n",
       "       [[ 9],\n",
       "        [10]],\n",
       "\n",
       "       [[15],\n",
       "        [15]],\n",
       "\n",
       "       [[ 9],\n",
       "        [ 9]],\n",
       "\n",
       "       [[ 0],\n",
       "        [ 0]]])"
      ]
     },
     "execution_count": 1187,
     "metadata": {},
     "output_type": "execute_result"
    }
   ],
   "source": [
    "add_one_gen(population_variants,anc_pop_size,num_genes)"
   ]
  },
  {
   "cell_type": "code",
   "execution_count": 1163,
   "metadata": {},
   "outputs": [],
   "source": [
    "obj=np.array([_[0] for _ in population_variants])"
   ]
  },
  {
   "cell_type": "code",
   "execution_count": 1136,
   "metadata": {},
   "outputs": [],
   "source": [
    "obj_freqs = np.divide(obj.astype(float), anc_pop_size)"
   ]
  },
  {
   "cell_type": "code",
   "execution_count": 1138,
   "metadata": {},
   "outputs": [],
   "source": [
    "newgen = np.random.binomial(n=anc_pop_size,p=obj_freqs).reshape(num_genes,1,1)"
   ]
  },
  {
   "cell_type": "code",
   "execution_count": 1141,
   "metadata": {},
   "outputs": [
    {
     "data": {
      "text/plain": [
       "array([[14],\n",
       "       [16]])"
      ]
     },
     "execution_count": 1141,
     "metadata": {},
     "output_type": "execute_result"
    }
   ],
   "source": [
    "np.hstack([newgen,population_variants])[0]"
   ]
  },
  {
   "cell_type": "code",
   "execution_count": 1123,
   "metadata": {},
   "outputs": [
    {
     "data": {
      "text/plain": [
       "array([[0.8 ],\n",
       "       [0.45],\n",
       "       [0.25],\n",
       "       [0.6 ],\n",
       "       [0.8 ],\n",
       "       [0.2 ],\n",
       "       [0.5 ],\n",
       "       [0.75],\n",
       "       [0.45],\n",
       "       [0.  ]])"
      ]
     },
     "execution_count": 1123,
     "metadata": {},
     "output_type": "execute_result"
    }
   ],
   "source": [
    "obj_freqs"
   ]
  },
  {
   "cell_type": "code",
   "execution_count": 1093,
   "metadata": {},
   "outputs": [
    {
     "data": {
      "text/plain": [
       "array([[[0.95749479]],\n",
       "\n",
       "       [[0.56996451]],\n",
       "\n",
       "       [[0.12863604]],\n",
       "\n",
       "       ...,\n",
       "\n",
       "       [[0.05566363]],\n",
       "\n",
       "       [[0.84168353]],\n",
       "\n",
       "       [[0.93016868]]])"
      ]
     },
     "execution_count": 1093,
     "metadata": {},
     "output_type": "execute_result"
    }
   ],
   "source": [
    "@jit\n",
    "def add_generation(population_obj):\n",
    "    '''\n",
    "    resamples from previous generation for each \n",
    "    '''\n",
    "    [_[0] for _ in population_variants]\n",
    "    obj=deepcopy(population_obj)\n",
    "    newdat = np.zeros((num_genes, 1, anc_pop_size),dtype=np.int8)\n",
    "    for gene_idx in range(len(obj)):\n",
    "        newdat[gene_idx][0] = np.random.choice(obj[gene_idx][0],replace=True,size=len(obj[gene_idx][0]))\n",
    "    return np.hstack([newdat,obj])"
   ]
  },
  {
   "cell_type": "code",
   "execution_count": null,
   "metadata": {},
   "outputs": [],
   "source": []
  },
  {
   "cell_type": "code",
   "execution_count": null,
   "metadata": {},
   "outputs": [],
   "source": []
  },
  {
   "cell_type": "code",
   "execution_count": null,
   "metadata": {},
   "outputs": [],
   "source": []
  },
  {
   "cell_type": "code",
   "execution_count": 1064,
   "metadata": {},
   "outputs": [
    {
     "data": {
      "text/plain": [
       "0.032732130928523714"
      ]
     },
     "execution_count": 1064,
     "metadata": {},
     "output_type": "execute_result"
    }
   ],
   "source": [
    "float(np.absolute(nABBA-nBABA))/np.sum([nABBA,nBABA])"
   ]
  },
  {
   "cell_type": "code",
   "execution_count": 1075,
   "metadata": {},
   "outputs": [
    {
     "data": {
      "text/plain": [
       "52"
      ]
     },
     "execution_count": 1075,
     "metadata": {},
     "output_type": "execute_result"
    }
   ],
   "source": [
    "np.random.binomial(n=100,p=.5)"
   ]
  },
  {
   "cell_type": "code",
   "execution_count": null,
   "metadata": {},
   "outputs": [],
   "source": []
  },
  {
   "cell_type": "code",
   "execution_count": 975,
   "metadata": {},
   "outputs": [],
   "source": [
    "#@jit\n",
    "def change_population_size(population,newsize):\n",
    "    p = deepcopy(population)\n",
    "    newshape = list(population.shape)\n",
    "    newshape[1] = 1\n",
    "    newshape[2] = newsize\n",
    "    newpop = np.zeros(tuple(newshape))\n",
    "    for idx in range(len(population)):\n",
    "        newpop[idx][0] = np.random.choice(population[idx],newsize,replace = True)\n",
    "    return(newpop)"
   ]
  },
  {
   "cell_type": "code",
   "execution_count": 722,
   "metadata": {},
   "outputs": [
    {
     "ename": "ValueError",
     "evalue": "a must be 1-dimensional",
     "output_type": "error",
     "traceback": [
      "\u001b[0;31m---------------------------------------------------------------------------\u001b[0m",
      "\u001b[0;31mValueError\u001b[0m                                Traceback (most recent call last)",
      "\u001b[0;32m<ipython-input-722-9c123353785e>\u001b[0m in \u001b[0;36m<module>\u001b[0;34m()\u001b[0m\n\u001b[0;32m----> 1\u001b[0;31m \u001b[0mchange_population_size\u001b[0m\u001b[0;34m(\u001b[0m\u001b[0mpopulation_alleles\u001b[0m\u001b[0;34m,\u001b[0m\u001b[0;36m200\u001b[0m\u001b[0;34m)\u001b[0m\u001b[0;34m\u001b[0m\u001b[0m\n\u001b[0m",
      "\u001b[0;32m<ipython-input-721-6d8d56e50641>\u001b[0m in \u001b[0;36mchange_population_size\u001b[0;34m(population, newsize)\u001b[0m\n\u001b[1;32m      7\u001b[0m     \u001b[0mnewpop\u001b[0m \u001b[0;34m=\u001b[0m \u001b[0mnp\u001b[0m\u001b[0;34m.\u001b[0m\u001b[0mzeros\u001b[0m\u001b[0;34m(\u001b[0m\u001b[0mtuple\u001b[0m\u001b[0;34m(\u001b[0m\u001b[0mnewshape\u001b[0m\u001b[0;34m)\u001b[0m\u001b[0;34m)\u001b[0m\u001b[0;34m\u001b[0m\u001b[0m\n\u001b[1;32m      8\u001b[0m     \u001b[0;32mfor\u001b[0m \u001b[0midx\u001b[0m \u001b[0;32min\u001b[0m \u001b[0mrange\u001b[0m\u001b[0;34m(\u001b[0m\u001b[0mlen\u001b[0m\u001b[0;34m(\u001b[0m\u001b[0mpopulation\u001b[0m\u001b[0;34m)\u001b[0m\u001b[0;34m)\u001b[0m\u001b[0;34m:\u001b[0m\u001b[0;34m\u001b[0m\u001b[0m\n\u001b[0;32m----> 9\u001b[0;31m         \u001b[0mnewpop\u001b[0m\u001b[0;34m[\u001b[0m\u001b[0midx\u001b[0m\u001b[0;34m]\u001b[0m\u001b[0;34m[\u001b[0m\u001b[0;36m0\u001b[0m\u001b[0;34m]\u001b[0m \u001b[0;34m=\u001b[0m \u001b[0mnp\u001b[0m\u001b[0;34m.\u001b[0m\u001b[0mrandom\u001b[0m\u001b[0;34m.\u001b[0m\u001b[0mchoice\u001b[0m\u001b[0;34m(\u001b[0m\u001b[0mpopulation\u001b[0m\u001b[0;34m[\u001b[0m\u001b[0midx\u001b[0m\u001b[0;34m]\u001b[0m\u001b[0;34m,\u001b[0m\u001b[0mnewsize\u001b[0m\u001b[0;34m,\u001b[0m\u001b[0mreplace\u001b[0m \u001b[0;34m=\u001b[0m \u001b[0mTrue\u001b[0m\u001b[0;34m)\u001b[0m\u001b[0;34m\u001b[0m\u001b[0m\n\u001b[0m\u001b[1;32m     10\u001b[0m     \u001b[0;32mreturn\u001b[0m\u001b[0;34m(\u001b[0m\u001b[0mnewpop\u001b[0m\u001b[0;34m)\u001b[0m\u001b[0;34m\u001b[0m\u001b[0m\n",
      "\u001b[0;32mmtrand.pyx\u001b[0m in \u001b[0;36mmtrand.RandomState.choice\u001b[0;34m()\u001b[0m\n",
      "\u001b[0;31mValueError\u001b[0m: a must be 1-dimensional"
     ]
    }
   ],
   "source": [
    "change_population_size(population_alleles,200)"
   ]
  },
  {
   "cell_type": "code",
   "execution_count": 522,
   "metadata": {},
   "outputs": [
    {
     "name": "stdout",
     "output_type": "stream",
     "text": [
      "954\n"
     ]
    }
   ],
   "source": [
    "test = deepcopy(population_alleles)\n",
    "counter = 0\n",
    "while len(np.concatenate([np.unique(i[0]) for i in test])) != num_genes:\n",
    "    test = add_generation(test)\n",
    "    counter += 1\n",
    "print(counter)"
   ]
  },
  {
   "cell_type": "code",
   "execution_count": 520,
   "metadata": {},
   "outputs": [
    {
     "data": {
      "text/plain": [
       "array([[[1, 1, 1, ..., 1, 1, 1],\n",
       "        [1, 1, 1, ..., 1, 1, 1],\n",
       "        [1, 1, 1, ..., 1, 1, 1],\n",
       "        ...,\n",
       "        [1, 0, 1, ..., 0, 1, 1],\n",
       "        [0, 1, 0, ..., 0, 0, 1],\n",
       "        [1, 0, 1, ..., 0, 1, 1]],\n",
       "\n",
       "       [[0, 0, 0, ..., 0, 0, 0],\n",
       "        [0, 0, 0, ..., 0, 0, 0],\n",
       "        [0, 0, 0, ..., 0, 0, 0],\n",
       "        ...,\n",
       "        [1, 0, 1, ..., 0, 0, 1],\n",
       "        [1, 1, 0, ..., 1, 0, 0],\n",
       "        [0, 0, 0, ..., 1, 0, 0]],\n",
       "\n",
       "       [[0, 0, 0, ..., 0, 0, 0],\n",
       "        [0, 0, 0, ..., 0, 0, 0],\n",
       "        [0, 0, 0, ..., 0, 0, 0],\n",
       "        ...,\n",
       "        [1, 1, 1, ..., 0, 0, 1],\n",
       "        [1, 0, 0, ..., 0, 0, 0],\n",
       "        [1, 0, 0, ..., 0, 1, 1]],\n",
       "\n",
       "       ...,\n",
       "\n",
       "       [[1, 1, 1, ..., 1, 1, 1],\n",
       "        [1, 1, 1, ..., 1, 1, 1],\n",
       "        [1, 1, 1, ..., 1, 1, 1],\n",
       "        ...,\n",
       "        [0, 0, 0, ..., 0, 0, 0],\n",
       "        [0, 1, 0, ..., 0, 1, 1],\n",
       "        [1, 0, 1, ..., 1, 0, 0]],\n",
       "\n",
       "       [[1, 1, 1, ..., 1, 1, 1],\n",
       "        [1, 1, 1, ..., 1, 1, 1],\n",
       "        [1, 1, 1, ..., 1, 1, 1],\n",
       "        ...,\n",
       "        [0, 1, 0, ..., 1, 0, 0],\n",
       "        [1, 1, 0, ..., 1, 1, 1],\n",
       "        [1, 0, 1, ..., 0, 1, 0]],\n",
       "\n",
       "       [[1, 1, 1, ..., 1, 1, 1],\n",
       "        [1, 1, 1, ..., 1, 1, 1],\n",
       "        [1, 1, 1, ..., 1, 1, 1],\n",
       "        ...,\n",
       "        [1, 0, 1, ..., 1, 1, 0],\n",
       "        [0, 0, 0, ..., 0, 0, 0],\n",
       "        [1, 1, 1, ..., 1, 1, 1]]], dtype=int8)"
      ]
     },
     "execution_count": 520,
     "metadata": {},
     "output_type": "execute_result"
    }
   ],
   "source": [
    "test"
   ]
  },
  {
   "cell_type": "markdown",
   "metadata": {},
   "source": [
    "# Now think about what this means..."
   ]
  },
  {
   "cell_type": "markdown",
   "metadata": {},
   "source": [
    "This is simulating backwards in time. We observe a polymorphism and randomly select parents for each individual. This is directional -- every starting individual has to have come from the previous generation, but the indivs in the previous generation don't have to be present in the current one."
   ]
  },
  {
   "cell_type": "markdown",
   "metadata": {},
   "source": [
    "Maybe a good approach to this would be to simulate single mutations. Most of them will immediately disappear, and we'll throw them away. But if the polymorphism persists for a specific amount of time (i.e. between the height of the tipmost node and the height of our phylogeny), then we can use this to model ILS and fixation."
   ]
  },
  {
   "cell_type": "markdown",
   "metadata": {},
   "source": [
    "Game plan:"
   ]
  },
  {
   "cell_type": "markdown",
   "metadata": {},
   "source": []
  }
 ],
 "metadata": {
  "kernelspec": {
   "display_name": "Python 2",
   "language": "python",
   "name": "python2"
  },
  "language_info": {
   "codemirror_mode": {
    "name": "ipython",
    "version": 2
   },
   "file_extension": ".py",
   "mimetype": "text/x-python",
   "name": "python",
   "nbconvert_exporter": "python",
   "pygments_lexer": "ipython2",
   "version": "2.7.11"
  }
 },
 "nbformat": 4,
 "nbformat_minor": 2
}
